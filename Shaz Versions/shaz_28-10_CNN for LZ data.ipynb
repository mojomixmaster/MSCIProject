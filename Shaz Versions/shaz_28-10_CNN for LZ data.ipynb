{
 "cells": [
  {
   "cell_type": "markdown",
   "id": "acdc8fd7-d662-4654-ac7f-0ab6a0c821a0",
   "metadata": {},
   "source": [
    "Here is some code where I am messing around with building a convolutional neural network using some examples from the internet. I've writted notes about how this needs to be modified for our analysis."
   ]
  },
  {
   "cell_type": "markdown",
   "id": "20267600-fa6b-4d98-92c5-b5c4672c0440",
   "metadata": {},
   "source": [
    "# Imports"
   ]
  },
  {
   "cell_type": "markdown",
   "id": "2456c6b1-26b8-4765-a173-5af0e693668f",
   "metadata": {},
   "source": [
    "Install tensorflow in your conda environment. Note that you need to have numpy-1.23.1. When I did this, I had to manually uninstall numpy-1.24.3 then install numpy-1.23.1, before installing tensorflow. The tensorflow install failed to install numpy-1.23.1, itself, even though it told me it was successful."
   ]
  },
  {
   "cell_type": "code",
   "execution_count": 5,
   "id": "a493a519",
   "metadata": {},
   "outputs": [
    {
     "name": "stdout",
     "output_type": "stream",
     "text": [
      "Found existing installation: numpy 1.23.1\n",
      "Uninstalling numpy-1.23.1:\n",
      "  Successfully uninstalled numpy-1.23.1\n"
     ]
    },
    {
     "name": "stderr",
     "output_type": "stream",
     "text": [
      "ERROR: Exception:\n",
      "Traceback (most recent call last):\n",
      "  File \"C:\\Users\\44738\\anaconda3\\lib\\site-packages\\pip\\_internal\\cli\\base_command.py\", line 189, in _main\n",
      "    status = self.run(options, args)\n",
      "  File \"C:\\Users\\44738\\anaconda3\\lib\\site-packages\\pip\\_internal\\commands\\uninstall.py\", line 91, in run\n",
      "    uninstall_pathset.commit()\n",
      "  File \"C:\\Users\\44738\\anaconda3\\lib\\site-packages\\pip\\_internal\\req\\req_uninstall.py\", line 456, in commit\n",
      "    self._moved_paths.commit()\n",
      "  File \"C:\\Users\\44738\\anaconda3\\lib\\site-packages\\pip\\_internal\\req\\req_uninstall.py\", line 296, in commit\n",
      "    save_dir.cleanup()\n",
      "  File \"C:\\Users\\44738\\anaconda3\\lib\\site-packages\\pip\\_internal\\utils\\temp_dir.py\", line 205, in cleanup\n",
      "    rmtree(ensure_text(self._path))\n",
      "  File \"C:\\Users\\44738\\anaconda3\\lib\\site-packages\\pip\\_vendor\\retrying.py\", line 49, in wrapped_f\n",
      "    return Retrying(*dargs, **dkw).call(f, *args, **kw)\n",
      "  File \"C:\\Users\\44738\\anaconda3\\lib\\site-packages\\pip\\_vendor\\retrying.py\", line 212, in call\n",
      "    raise attempt.get()\n",
      "  File \"C:\\Users\\44738\\anaconda3\\lib\\site-packages\\pip\\_vendor\\retrying.py\", line 247, in get\n",
      "    six.reraise(self.value[0], self.value[1], self.value[2])\n",
      "  File \"C:\\Users\\44738\\anaconda3\\lib\\site-packages\\pip\\_vendor\\six.py\", line 703, in reraise\n",
      "    raise value\n",
      "  File \"C:\\Users\\44738\\anaconda3\\lib\\site-packages\\pip\\_vendor\\retrying.py\", line 200, in call\n",
      "    attempt = Attempt(fn(*args, **kwargs), attempt_number, False)\n",
      "  File \"C:\\Users\\44738\\anaconda3\\lib\\site-packages\\pip\\_internal\\utils\\misc.py\", line 129, in rmtree\n",
      "    shutil.rmtree(dir, ignore_errors=ignore_errors,\n",
      "  File \"C:\\Users\\44738\\anaconda3\\lib\\shutil.py\", line 740, in rmtree\n",
      "    return _rmtree_unsafe(path, onerror)\n",
      "  File \"C:\\Users\\44738\\anaconda3\\lib\\shutil.py\", line 613, in _rmtree_unsafe\n",
      "    _rmtree_unsafe(fullname, onerror)\n",
      "  File \"C:\\Users\\44738\\anaconda3\\lib\\shutil.py\", line 618, in _rmtree_unsafe\n",
      "    onerror(os.unlink, fullname, sys.exc_info())\n",
      "  File \"C:\\Users\\44738\\anaconda3\\lib\\shutil.py\", line 616, in _rmtree_unsafe\n",
      "    os.unlink(fullname)\n",
      "PermissionError: [WinError 5] Access is denied: 'C:\\\\Users\\\\44738\\\\anaconda3\\\\Lib\\\\site-packages\\\\~1mpy\\\\.libs\\\\libopenblas.FB5AE2TYXYH2IJRDKGDGQ3XBKLKTF43H.gfortran-win_amd64.dll'\n"
     ]
    },
    {
     "name": "stdout",
     "output_type": "stream",
     "text": [
      "Collecting numpy==1.23.1\n",
      "  Using cached numpy-1.23.1-cp38-cp38-win_amd64.whl (14.7 MB)\n",
      "Installing collected packages: numpy\n",
      "Successfully installed numpy-1.23.1\n"
     ]
    },
    {
     "name": "stderr",
     "output_type": "stream",
     "text": [
      "ERROR: pip's dependency resolver does not currently take into account all the packages that are installed. This behaviour is the source of the following dependency conflicts.\n",
      "scipy 1.6.2 requires numpy<1.23.0,>=1.16.5, but you have numpy 1.23.1 which is incompatible.\n"
     ]
    }
   ],
   "source": [
    "!pip uninstall numpy -y\n",
    "!pip install numpy==1.23.1"
   ]
  },
  {
   "cell_type": "code",
   "execution_count": 6,
   "id": "6c53be29",
   "metadata": {},
   "outputs": [
    {
     "name": "stdout",
     "output_type": "stream",
     "text": [
      "Requirement already satisfied: tensorflow in c:\\users\\44738\\anaconda3\\lib\\site-packages (2.13.0)\n",
      "Requirement already satisfied: tensorflow-intel==2.13.0 in c:\\users\\44738\\anaconda3\\lib\\site-packages (from tensorflow) (2.13.0)\n",
      "Requirement already satisfied: grpcio<2.0,>=1.24.3 in c:\\users\\44738\\anaconda3\\lib\\site-packages (from tensorflow-intel==2.13.0->tensorflow) (1.67.0)\n",
      "Requirement already satisfied: libclang>=13.0.0 in c:\\users\\44738\\anaconda3\\lib\\site-packages (from tensorflow-intel==2.13.0->tensorflow) (18.1.1)\n",
      "Requirement already satisfied: typing-extensions<4.6.0,>=3.6.6 in c:\\users\\44738\\anaconda3\\lib\\site-packages (from tensorflow-intel==2.13.0->tensorflow) (4.5.0)\n",
      "Requirement already satisfied: protobuf!=4.21.0,!=4.21.1,!=4.21.2,!=4.21.3,!=4.21.4,!=4.21.5,<5.0.0dev,>=3.20.3 in c:\\users\\44738\\anaconda3\\lib\\site-packages (from tensorflow-intel==2.13.0->tensorflow) (4.25.5)\n",
      "Requirement already satisfied: wrapt>=1.11.0 in c:\\users\\44738\\anaconda3\\lib\\site-packages (from tensorflow-intel==2.13.0->tensorflow) (1.12.1)\n",
      "Requirement already satisfied: gast<=0.4.0,>=0.2.1 in c:\\users\\44738\\anaconda3\\lib\\site-packages (from tensorflow-intel==2.13.0->tensorflow) (0.4.0)\n",
      "Requirement already satisfied: packaging in c:\\users\\44738\\anaconda3\\lib\\site-packages (from tensorflow-intel==2.13.0->tensorflow) (20.9)\n",
      "Requirement already satisfied: six>=1.12.0 in c:\\users\\44738\\anaconda3\\lib\\site-packages (from tensorflow-intel==2.13.0->tensorflow) (1.15.0)\n",
      "Requirement already satisfied: absl-py>=1.0.0 in c:\\users\\44738\\anaconda3\\lib\\site-packages (from tensorflow-intel==2.13.0->tensorflow) (2.1.0)\n",
      "Requirement already satisfied: h5py>=2.9.0 in c:\\users\\44738\\anaconda3\\lib\\site-packages (from tensorflow-intel==2.13.0->tensorflow) (2.10.0)\n",
      "Requirement already satisfied: tensorflow-estimator<2.14,>=2.13.0 in c:\\users\\44738\\anaconda3\\lib\\site-packages (from tensorflow-intel==2.13.0->tensorflow) (2.13.0)\n",
      "Requirement already satisfied: keras<2.14,>=2.13.1 in c:\\users\\44738\\anaconda3\\lib\\site-packages (from tensorflow-intel==2.13.0->tensorflow) (2.13.1)\n",
      "Requirement already satisfied: termcolor>=1.1.0 in c:\\users\\44738\\anaconda3\\lib\\site-packages (from tensorflow-intel==2.13.0->tensorflow) (2.4.0)\n",
      "Requirement already satisfied: opt-einsum>=2.3.2 in c:\\users\\44738\\anaconda3\\lib\\site-packages (from tensorflow-intel==2.13.0->tensorflow) (3.4.0)\n",
      "Requirement already satisfied: astunparse>=1.6.0 in c:\\users\\44738\\anaconda3\\lib\\site-packages (from tensorflow-intel==2.13.0->tensorflow) (1.6.3)\n",
      "Requirement already satisfied: tensorboard<2.14,>=2.13 in c:\\users\\44738\\anaconda3\\lib\\site-packages (from tensorflow-intel==2.13.0->tensorflow) (2.13.0)\n",
      "Requirement already satisfied: tensorflow-io-gcs-filesystem>=0.23.1 in c:\\users\\44738\\anaconda3\\lib\\site-packages (from tensorflow-intel==2.13.0->tensorflow) (0.31.0)\n",
      "Requirement already satisfied: google-pasta>=0.1.1 in c:\\users\\44738\\anaconda3\\lib\\site-packages (from tensorflow-intel==2.13.0->tensorflow) (0.2.0)\n",
      "Requirement already satisfied: numpy<=1.24.3,>=1.22 in c:\\users\\44738\\anaconda3\\lib\\site-packages (from tensorflow-intel==2.13.0->tensorflow) (1.23.1)\n",
      "Requirement already satisfied: flatbuffers>=23.1.21 in c:\\users\\44738\\anaconda3\\lib\\site-packages (from tensorflow-intel==2.13.0->tensorflow) (24.3.25)\n",
      "Requirement already satisfied: setuptools in c:\\users\\44738\\anaconda3\\lib\\site-packages (from tensorflow-intel==2.13.0->tensorflow) (52.0.0.post20210125)\n",
      "Requirement already satisfied: wheel<1.0,>=0.23.0 in c:\\users\\44738\\anaconda3\\lib\\site-packages (from astunparse>=1.6.0->tensorflow-intel==2.13.0->tensorflow) (0.36.2)\n",
      "Requirement already satisfied: requests<3,>=2.21.0 in c:\\users\\44738\\anaconda3\\lib\\site-packages (from tensorboard<2.14,>=2.13->tensorflow-intel==2.13.0->tensorflow) (2.25.1)\n",
      "Requirement already satisfied: tensorboard-data-server<0.8.0,>=0.7.0 in c:\\users\\44738\\anaconda3\\lib\\site-packages (from tensorboard<2.14,>=2.13->tensorflow-intel==2.13.0->tensorflow) (0.7.2)\n",
      "Requirement already satisfied: google-auth<3,>=1.6.3 in c:\\users\\44738\\anaconda3\\lib\\site-packages (from tensorboard<2.14,>=2.13->tensorflow-intel==2.13.0->tensorflow) (2.35.0)\n",
      "Requirement already satisfied: google-auth-oauthlib<1.1,>=0.5 in c:\\users\\44738\\anaconda3\\lib\\site-packages (from tensorboard<2.14,>=2.13->tensorflow-intel==2.13.0->tensorflow) (1.0.0)\n",
      "Requirement already satisfied: markdown>=2.6.8 in c:\\users\\44738\\anaconda3\\lib\\site-packages (from tensorboard<2.14,>=2.13->tensorflow-intel==2.13.0->tensorflow) (3.7)\n",
      "Requirement already satisfied: werkzeug>=1.0.1 in c:\\users\\44738\\anaconda3\\lib\\site-packages (from tensorboard<2.14,>=2.13->tensorflow-intel==2.13.0->tensorflow) (1.0.1)\n",
      "Requirement already satisfied: cachetools<6.0,>=2.0.0 in c:\\users\\44738\\anaconda3\\lib\\site-packages (from google-auth<3,>=1.6.3->tensorboard<2.14,>=2.13->tensorflow-intel==2.13.0->tensorflow) (5.5.0)\n",
      "Requirement already satisfied: pyasn1-modules>=0.2.1 in c:\\users\\44738\\anaconda3\\lib\\site-packages (from google-auth<3,>=1.6.3->tensorboard<2.14,>=2.13->tensorflow-intel==2.13.0->tensorflow) (0.4.1)\n",
      "Requirement already satisfied: rsa<5,>=3.1.4 in c:\\users\\44738\\anaconda3\\lib\\site-packages (from google-auth<3,>=1.6.3->tensorboard<2.14,>=2.13->tensorflow-intel==2.13.0->tensorflow) (4.9)\n",
      "Requirement already satisfied: requests-oauthlib>=0.7.0 in c:\\users\\44738\\anaconda3\\lib\\site-packages (from google-auth-oauthlib<1.1,>=0.5->tensorboard<2.14,>=2.13->tensorflow-intel==2.13.0->tensorflow) (2.0.0)\n",
      "Requirement already satisfied: importlib-metadata>=4.4 in c:\\users\\44738\\anaconda3\\lib\\site-packages (from markdown>=2.6.8->tensorboard<2.14,>=2.13->tensorflow-intel==2.13.0->tensorflow) (8.5.0)\n",
      "Requirement already satisfied: zipp>=3.20 in c:\\users\\44738\\anaconda3\\lib\\site-packages (from importlib-metadata>=4.4->markdown>=2.6.8->tensorboard<2.14,>=2.13->tensorflow-intel==2.13.0->tensorflow) (3.20.2)\n",
      "Requirement already satisfied: pyasn1<0.7.0,>=0.4.6 in c:\\users\\44738\\anaconda3\\lib\\site-packages (from pyasn1-modules>=0.2.1->google-auth<3,>=1.6.3->tensorboard<2.14,>=2.13->tensorflow-intel==2.13.0->tensorflow) (0.6.1)\n",
      "Requirement already satisfied: certifi>=2017.4.17 in c:\\users\\44738\\anaconda3\\lib\\site-packages (from requests<3,>=2.21.0->tensorboard<2.14,>=2.13->tensorflow-intel==2.13.0->tensorflow) (2020.12.5)\n",
      "Requirement already satisfied: chardet<5,>=3.0.2 in c:\\users\\44738\\anaconda3\\lib\\site-packages (from requests<3,>=2.21.0->tensorboard<2.14,>=2.13->tensorflow-intel==2.13.0->tensorflow) (4.0.0)\n",
      "Requirement already satisfied: idna<3,>=2.5 in c:\\users\\44738\\anaconda3\\lib\\site-packages (from requests<3,>=2.21.0->tensorboard<2.14,>=2.13->tensorflow-intel==2.13.0->tensorflow) (2.10)\n",
      "Requirement already satisfied: urllib3<1.27,>=1.21.1 in c:\\users\\44738\\anaconda3\\lib\\site-packages (from requests<3,>=2.21.0->tensorboard<2.14,>=2.13->tensorflow-intel==2.13.0->tensorflow) (1.26.4)\n",
      "Requirement already satisfied: oauthlib>=3.0.0 in c:\\users\\44738\\anaconda3\\lib\\site-packages (from requests-oauthlib>=0.7.0->google-auth-oauthlib<1.1,>=0.5->tensorboard<2.14,>=2.13->tensorflow-intel==2.13.0->tensorflow) (3.2.2)\n",
      "Requirement already satisfied: pyparsing>=2.0.2 in c:\\users\\44738\\anaconda3\\lib\\site-packages (from packaging->tensorflow-intel==2.13.0->tensorflow) (2.4.7)\n"
     ]
    }
   ],
   "source": [
    "!pip install tensorflow"
   ]
  },
  {
   "cell_type": "code",
   "execution_count": 7,
   "id": "1d7dce79-4f35-42e9-bcfd-dec4973eec11",
   "metadata": {},
   "outputs": [],
   "source": [
    "import tensorflow as tf\n",
    "from tensorflow import keras\n",
    "import matplotlib.pyplot as plt\n",
    "%matplotlib inline\n",
    "import numpy as np\n",
    "import seaborn as sn\n",
    "import numpy as np\n",
    "import pandas as pd\n",
    "import awkward as ak\n",
    "\n",
    "import hist\n",
    "from hist import Hist, axis\n",
    "\n",
    "import matplotlib as mpl\n",
    "import matplotlib.pyplot as plt\n",
    "import matplotlib.patches as patches"
   ]
  },
  {
   "cell_type": "markdown",
   "id": "8bd7cc9b",
   "metadata": {},
   "source": [
    "# Get data"
   ]
  },
  {
   "cell_type": "markdown",
   "id": "f5a2ee6c-b369-480d-9360-ee447b268da5",
   "metadata": {},
   "source": [
    "Download the mnist data base from https://storage.googleapis.com/tensorflow/tf-keras-datasets/mnist.npz then load in the data. For me, keras wasn't able to automatically download the data so I had to go to the url and download the data by hand before loading the data, as shown below."
   ]
  },
  {
   "cell_type": "code",
   "execution_count": 8,
   "id": "389b570b-e5ac-41e0-892f-a6a63a1115df",
   "metadata": {},
   "outputs": [
    {
     "data": {
      "text/plain": [
       "['runID',\n",
       " 'eventID',\n",
       " 'times',\n",
       " 'samples',\n",
       " 'length',\n",
       " 'area',\n",
       " 'max_pulse_height',\n",
       " 'ext_elec',\n",
       " 'x',\n",
       " 'y',\n",
       " 'r',\n",
       " 'S2_width',\n",
       " 'label',\n",
       " 'type',\n",
       " 'weights_no_gas',\n",
       " 'chonkers']"
      ]
     },
     "execution_count": 8,
     "metadata": {},
     "output_type": "execute_result"
    }
   ],
   "source": [
    "plt.rcParams['figure.figsize'] = [10, 8]\n",
    "font = {'weight' : 'normal','size'   : 22}\n",
    "plt.rc('font', **font)\n",
    "data_path = 'padded_waveforms.parquet'\n",
    "arr = ak.from_parquet(data_path)\n",
    "ak.fields(arr)"
   ]
  },
  {
   "cell_type": "markdown",
   "id": "6b0b97c7-0a56-4114-9dc7-bfbee19c8b35",
   "metadata": {},
   "source": [
    "The data are 2D greyscale images of handwritten numbers with intensity in the range 0-255. The data must be rescaled by dividing by 255, then flattened into 1D arrays.\n",
    "\n",
    "In our case, we will be using 1D 'images' and the range will be between 0 and the maximum height reached within any one of the pulses. We don't know what this is ahead of time; you'll have to find the maximum then divide all the images by that number. I think we will also need to pad the arrays to make them the same length, since each pulse will have a variable number of samples. I would start by adding zeroes evenly to the front and back of the array. I'm not sure if the way we do this could introduce some difficulties in learning for the CNN. We should think about this a little bit."
   ]
  },
  {
   "cell_type": "code",
   "execution_count": 9,
   "id": "98a18898-be31-42e3-830a-933e97d7e3a7",
   "metadata": {},
   "outputs": [
    {
     "name": "stdout",
     "output_type": "stream",
     "text": [
      "[[0, 0.000909, 0.00182, 0.00273, 0.00364, ..., 0.997, 0.998, 0.999, 1], ...]\n",
      "[[0.00238, 0.00212, 0.00198, 0.00223, ..., 0.00251, 0.00211, 0.00133, 0], ...]\n"
     ]
    }
   ],
   "source": [
    "import awkward as ak\n",
    "\n",
    "# Assuming 'times' and 'samples' are the column names\n",
    "# Normalize each array in the 'times' and 'samples' columns\n",
    "\n",
    "# Function to normalize arrays to values between 0 and 1\n",
    "def normalize_array(arr):\n",
    "    min_val = ak.min(arr, axis=-1)\n",
    "    max_val = ak.max(arr, axis=-1)\n",
    "    return (arr - min_val) / (max_val - min_val)\n",
    "\n",
    "# Apply normalization to each column\n",
    "normalized_times = normalize_array(arr['times'])\n",
    "normalized_samples = normalize_array(arr['samples'])\n",
    "\n",
    "\n",
    "\n",
    "# Print or inspect the results\n",
    "print(normalized_times)\n",
    "print(normalized_samples)"
   ]
  },
  {
   "cell_type": "code",
   "execution_count": 10,
   "id": "8815f179",
   "metadata": {},
   "outputs": [
    {
     "name": "stdout",
     "output_type": "stream",
     "text": [
      "X_combined shape: (7782, 3656)\n",
      "labels shape: (7782,)\n"
     ]
    }
   ],
   "source": [
    "import awkward as ak\n",
    "import numpy as np\n",
    "from sklearn.model_selection import train_test_split\n",
    "\n",
    "\n",
    "# Determine the maximum length in both normalized arrays\n",
    "max_length = max(ak.max(ak.num(normalized_times, axis=-1)), ak.max(ak.num(normalized_samples, axis=-1)))\n",
    "\n",
    "# Pad each array to the same maximum length\n",
    "padded_times = ak.fill_none(ak.pad_none(normalized_times, target=max_length, axis=-1), 0)\n",
    "padded_samples = ak.fill_none(ak.pad_none(normalized_samples, target=max_length, axis=-1), 0)\n",
    "\n",
    "# Convert padded arrays to numpy and concatenate\n",
    "padded_times_np = ak.to_numpy(padded_times)\n",
    "padded_samples_np = ak.to_numpy(padded_samples)\n",
    "\n",
    "X_combined = np.concatenate([padded_times_np, padded_samples_np], axis=1)\n",
    "print(\"X_combined shape:\", X_combined.shape)\n",
    "\n",
    "labels = arr['label']\n",
    "\n",
    "labels = np.array(labels)\n",
    "\n",
    "print(\"labels shape:\", labels.shape)"
   ]
  },
  {
   "cell_type": "code",
   "execution_count": 11,
   "id": "489ebbdd",
   "metadata": {},
   "outputs": [
    {
     "name": "stdout",
     "output_type": "stream",
     "text": [
      "X_train shape: (5836, 3656)\n",
      "X_test shape: (1946, 3656)\n",
      "y_train shape: (5836,)\n",
      "y_test shape: (1946,)\n"
     ]
    }
   ],
   "source": [
    "# Split X_combined and labels into 25% training and 75% test sets\n",
    "X_train, X_test, y_train, y_test = train_test_split(X_combined, labels, test_size=0.25, random_state=42)\n",
    "\n",
    "# Verify the shapes\n",
    "print(\"X_train shape:\", X_train.shape)\n",
    "print(\"X_test shape:\", X_test.shape)\n",
    "print(\"y_train shape:\", y_train.shape)\n",
    "print(\"y_test shape:\", y_test.shape)"
   ]
  },
  {
   "cell_type": "markdown",
   "id": "5ca8dca8-1a06-4e8a-9199-46e97408abdf",
   "metadata": {},
   "source": [
    "# Sequential fully-connected neural network with only input and output layers"
   ]
  },
  {
   "cell_type": "markdown",
   "id": "c20275ce-6d79-44e8-837e-db569038046e",
   "metadata": {},
   "source": [
    "This is a sequential fully-connected neural network with only input and output layers. The input shape is (784,) because each 28x28 image has been flattened into a 784x1 tensor. Each element of the tensor is fed into one of the 784 neurons of the input layer. The output shape is 10 because there are 10 different numbers that can be written in the image: 0, 1, 2, 3, 4, 5, 6, 7, 8, or 9. The term \"sequential\" indicates the model is a plain stack of layers, which works in a basic scenario where every layer has a single input tensor and a single output tensor. The term \"fully-connected\" refers to the fact that each one of the 784 input neurons is connected to each one of the 10 output neurons. Generally, the activation function for the output layer is a sigmoid that scales the output of each neuron to within the range 0-1. This makes it appear to be a probability, but I think it's not a probability and we shouldn't call it that.\n",
    "\n",
    "The configuration described above can be adapted to our case. The input shape will be the paded length of the waveforms, the output shape will be 3 for a 0 (signal-like), 1 (gate-like), or 2 (cathode-like) S2.\n",
    "\n",
    "Some resources for learning or remembering what a neural network does are: https://victorzhou.com/blog/intro-to-neural-networks/ (simple description of a neural network) and https://keras.io/guides/sequential_model/ (basic description of how to write the code using keras). You may already have experience with this from your courses - I'm not sure what they teach these days - but it's not a big deal if you have no experience because there are lots of resources online."
   ]
  },
  {
   "cell_type": "code",
   "execution_count": 12,
   "id": "689ede31-4bba-44c2-94d0-4eb14452983b",
   "metadata": {},
   "outputs": [
    {
     "name": "stdout",
     "output_type": "stream",
     "text": [
      "Model: \"sequential\"\n",
      "_________________________________________________________________\n",
      " Layer (type)                Output Shape              Param #   \n",
      "=================================================================\n",
      " dense (Dense)               (None, 3)                 10971     \n",
      "                                                                 \n",
      "=================================================================\n",
      "Total params: 10971 (42.86 KB)\n",
      "Trainable params: 10971 (42.86 KB)\n",
      "Non-trainable params: 0 (0.00 Byte)\n",
      "_________________________________________________________________\n"
     ]
    }
   ],
   "source": [
    "simpleNN = keras.Sequential([\n",
    "    keras.layers.Dense(3,input_shape=(3656,),activation='sigmoid')\n",
    "])\n",
    "\n",
    "simpleNN.summary()\n",
    "\n",
    "#this sets up our sequential fully-connected neural network with only an input and output layer\n",
    "#keras.Sequential() creastes the model- layers stached one after another linearky\n",
    "#the 10 defines a fully connected dense layer with 10 neurons\n",
    "#input_shape(784,)- just says the shape of the input data (784 pixels)\n",
    "#sigmoid just applies the sigmoid activation function to each neuron0 this sigmoid function outputs values between 0 and 1\n",
    "#the last command just prints a summary of the models architecture"
   ]
  },
  {
   "cell_type": "markdown",
   "id": "54dfa577-af4a-4269-8d74-f46b050166e6",
   "metadata": {},
   "source": [
    "The loss function for multi-class classification should be sparse categorical crossentropy. This will work for our case as well, since we have 3 categories. We could also try a case were we have an output shape of 2  with 0 = signal-like and 1 = gate/cathode-like, using binary crossentropy. Was there any similar issue with the hyperparameters for the multiclass boosted decision tree."
   ]
  },
  {
   "cell_type": "code",
   "execution_count": 13,
   "id": "9dcd3ca2-fc3e-42f4-8c7f-050bd8f9673d",
   "metadata": {},
   "outputs": [],
   "source": [
    "simpleNN.compile(optimizer='adam',\n",
    "                 loss='sparse_categorical_crossentropy',\n",
    "                 metrics=['accuracy'])\n",
    "\n",
    "#this function prepares the model for training\n",
    "#optimiser- updates weights of the network based on the gradients calculated via backpropagation\n",
    "#loss- tells the network how wrong the predictions are\n",
    "#metrics- used to tell you the perfromance of the model here we specify the accuracy as the metric"
   ]
  },
  {
   "cell_type": "markdown",
   "id": "3b3fcee5-783f-4886-b9a8-cebcce307150",
   "metadata": {},
   "source": [
    "One epoch corresponds to running the data through the neural network, calculating the loss, and reweighting the model. We will have to weight the samples evenly across S2 size, like  we did for the boosted decision tree. I think this is done by setting the paramter sample_weight equal to your sample weights in the fit function, below. We will also have to decide how many epochs to use by plotting accuracy vs epoch, as you've done for the boosted decision tree, and comparing the accuracy of the test and training datasets, which should be the ~same at the end if you aren't overtraining."
   ]
  },
  {
   "cell_type": "code",
   "execution_count": 14,
   "id": "5ad98483-ae9c-4f32-b57c-a2b45e1dab86",
   "metadata": {},
   "outputs": [
    {
     "name": "stdout",
     "output_type": "stream",
     "text": [
      "Epoch 1/5\n",
      "183/183 [==============================] - 1s 2ms/step - loss: 0.3832 - accuracy: 0.8367\n",
      "Epoch 2/5\n",
      "183/183 [==============================] - 0s 2ms/step - loss: 0.3393 - accuracy: 0.8571\n",
      "Epoch 3/5\n",
      "183/183 [==============================] - 0s 3ms/step - loss: 0.3223 - accuracy: 0.8609\n",
      "Epoch 4/5\n",
      "183/183 [==============================] - 0s 2ms/step - loss: 0.3214 - accuracy: 0.8614\n",
      "Epoch 5/5\n",
      "183/183 [==============================] - 0s 2ms/step - loss: 0.3150 - accuracy: 0.8634\n"
     ]
    },
    {
     "data": {
      "text/plain": [
       "<keras.src.callbacks.History at 0x1dc45e7a9a0>"
      ]
     },
     "execution_count": 14,
     "metadata": {},
     "output_type": "execute_result"
    }
   ],
   "source": [
    "simpleNN.fit(X_train,y_train,epochs=5)\n",
    "# here we train the data, epochs is the numbers of times the data gets trained\n",
    "#X_train_flattened- input training data\n",
    "#y_train is the true value of the data that we use for comparison and what the model tried to predict"
   ]
  },
  {
   "cell_type": "code",
   "execution_count": 15,
   "id": "be80c2fe-bbad-4f12-8ebd-bc0ce02e56e2",
   "metadata": {},
   "outputs": [
    {
     "name": "stdout",
     "output_type": "stream",
     "text": [
      "61/61 [==============================] - 0s 1ms/step - loss: 0.3484 - accuracy: 0.8582\n"
     ]
    },
    {
     "data": {
      "text/plain": [
       "[0.3483726680278778, 0.8581706285476685]"
      ]
     },
     "execution_count": 15,
     "metadata": {},
     "output_type": "execute_result"
    }
   ],
   "source": [
    "simpleNN.evaluate(X_test,y_test)\n",
    "#this evaluates the trained model\n",
    "#X_test_flattened- test input data\n",
    "#y_test: true labels for the data"
   ]
  },
  {
   "cell_type": "markdown",
   "id": "2979ff3e-713b-4d0a-b0e8-fcf933a1048c",
   "metadata": {},
   "source": [
    "It's also nice to plot a confusion matrix to understand what is getting misclassified. This might be good to do making cuts on S2 size, especially if the accuracy vs epoch plot shows that some S2 sizes are improving while others are not."
   ]
  },
  {
   "cell_type": "code",
   "execution_count": 16,
   "id": "90bd8a2f-9749-4775-9b4f-280abfeabaac",
   "metadata": {},
   "outputs": [
    {
     "name": "stdout",
     "output_type": "stream",
     "text": [
      "61/61 [==============================] - 0s 1ms/step\n"
     ]
    },
    {
     "data": {
      "text/plain": [
       "(array([0.52602935, 0.0012083 , 0.8971098 ], dtype=float32), 2)"
      ]
     },
     "execution_count": 16,
     "metadata": {},
     "output_type": "execute_result"
    }
   ],
   "source": [
    "y_predicted = simpleNN.predict(X_test)\n",
    "y_predicted_label = [np.argmax(i) for i in y_predicted]\n",
    "\n",
    "y_predicted[0], y_predicted_label[0]\n",
    "\n",
    "#first line produces predicted probabilities for each class i.e digits 0-9 for each image\n",
    "#the ouput y_predicted would create an erray corresponding to all the pixels in the image giving it a probability (i.e. 784 pixels with 0-9 digit)\n",
    "#2nd line line converts the probability array into a class label\n",
    "#np.argmax{i}, finds the index of the highest value in each array- this index corresponds to the predicted class (digit)\n",
    "#y_predicted_label[0]- returns the predicted label for the first test image"
   ]
  },
  {
   "cell_type": "code",
   "execution_count": 17,
   "id": "e3d2a346-fe0e-4119-bcfa-584ce43ced9c",
   "metadata": {},
   "outputs": [
    {
     "data": {
      "text/plain": [
       "Text(59.0, 0.5, 'Truth')"
      ]
     },
     "execution_count": 17,
     "metadata": {},
     "output_type": "execute_result"
    },
    {
     "data": {
      "image/png": "[encoded data removed]",
      "text/plain": [
       "<Figure size 720x504 with 2 Axes>"
      ]
     },
     "metadata": {
      "needs_background": "light"
     },
     "output_type": "display_data"
    }
   ],
   "source": [
    "plt.figure(figsize = (10,7))\n",
    "sn.heatmap(tf.math.confusion_matrix(labels=y_test,predictions=y_predicted_label),\n",
    "           annot=True, \n",
    "           fmt='d')\n",
    "plt.xlabel('Predicted')\n",
    "plt.ylabel('Truth')\n",
    "\n",
    "#line sets up a new figure for the plot with size 10* 7 inches\n",
    "#sn.heatmap creates a matrix which shows you how many times the predicted labels match the true labels\n",
    "#tf.math.confusion_matrix() generates this confusion matrix using tensor flow\n",
    "#the labels within the matrix show you your true result in y axis and predicted result in x axis"
   ]
  },
  {
   "cell_type": "markdown",
   "id": "73eb107e-451b-4032-9fb1-c9f69f06b887",
   "metadata": {},
   "source": [
    "# Adding a hidden layer"
   ]
  },
  {
   "cell_type": "markdown",
   "id": "c6268434-9025-4e01-b738-8125297172a7",
   "metadata": {},
   "source": [
    "Adding a hidden layer can increase performance but will take longer to run. We'll have to think about how to optimize the number of hidden layers and the number of neurons in each hidden layer. Below, there is one hidden layer with 100 neurons. The activation function is a rectified linear unit (ReLU), which helps to improve performance. Hidden layers usually have ReLU or Leaky ReLU functions."
   ]
  },
  {
   "cell_type": "code",
   "execution_count": 18,
   "id": "d819f1af-ce44-4ccd-9fdc-e71fba439276",
   "metadata": {},
   "outputs": [
    {
     "name": "stdout",
     "output_type": "stream",
     "text": [
      "Model: \"sequential_1\"\n",
      "_________________________________________________________________\n",
      " Layer (type)                Output Shape              Param #   \n",
      "=================================================================\n",
      " dense_1 (Dense)             (None, 100)               365700    \n",
      "                                                                 \n",
      " dense_2 (Dense)             (None, 3)                 303       \n",
      "                                                                 \n",
      "=================================================================\n",
      "Total params: 366003 (1.40 MB)\n",
      "Trainable params: 366003 (1.40 MB)\n",
      "Non-trainable params: 0 (0.00 Byte)\n",
      "_________________________________________________________________\n"
     ]
    }
   ],
   "source": [
    "hiddenNN = keras.Sequential([\n",
    "    keras.layers.Dense(100,input_shape=(3656,),activation='relu'),\n",
    "    keras.layers.Dense(3,activation='sigmoid')\n",
    "])\n",
    "hiddenNN.summary()\n",
    "\n",
    "#keras.sequential([])- creates a sequential model\n",
    "#first layer is the hidden layer, second layer is the output layer\n",
    "#layer 1, is fully connected with 100 neurons, with input of 784 length arrays\n",
    "#layer 2, is output layer, which is a fully connected layer with 10 neurons\n",
    "#then we print out the summary of hte model shown below"
   ]
  },
  {
   "cell_type": "code",
   "execution_count": 19,
   "id": "8b9294a8-c067-4be5-a84c-59cbb1d86e62",
   "metadata": {},
   "outputs": [
    {
     "name": "stdout",
     "output_type": "stream",
     "text": [
      "Epoch 1/5\n",
      "183/183 [==============================] - 2s 6ms/step - loss: 0.3651 - accuracy: 0.8463\n",
      "Epoch 2/5\n",
      "183/183 [==============================] - 1s 5ms/step - loss: 0.3079 - accuracy: 0.8681\n",
      "Epoch 3/5\n",
      "183/183 [==============================] - 1s 5ms/step - loss: 0.2888 - accuracy: 0.8765\n",
      "Epoch 4/5\n",
      "183/183 [==============================] - 1s 7ms/step - loss: 0.2782 - accuracy: 0.8806\n",
      "Epoch 5/5\n",
      "183/183 [==============================] - 1s 7ms/step - loss: 0.2657 - accuracy: 0.8869\n"
     ]
    },
    {
     "data": {
      "text/plain": [
       "<keras.src.callbacks.History at 0x1dc45e48d90>"
      ]
     },
     "execution_count": 19,
     "metadata": {},
     "output_type": "execute_result"
    }
   ],
   "source": [
    "hiddenNN.compile(optimizer='adam',\n",
    "                 loss='sparse_categorical_crossentropy',\n",
    "                 metrics=['accuracy'])\n",
    "\n",
    "hiddenNN.fit(X_train,y_train,epochs=5)"
   ]
  },
  {
   "cell_type": "code",
   "execution_count": 20,
   "id": "5a36946e-d314-4cae-9c17-94e4ccbbeba6",
   "metadata": {},
   "outputs": [
    {
     "name": "stdout",
     "output_type": "stream",
     "text": [
      "61/61 [==============================] - 0s 2ms/step - loss: 0.2900 - accuracy: 0.8803\n"
     ]
    },
    {
     "data": {
      "text/plain": [
       "[0.28996115922927856, 0.8802672028541565]"
      ]
     },
     "execution_count": 20,
     "metadata": {},
     "output_type": "execute_result"
    }
   ],
   "source": [
    "hiddenNN.evaluate(X_test,y_test)"
   ]
  },
  {
   "cell_type": "markdown",
   "id": "1ec40ac1-2fc4-4656-9c16-4d21e8528752",
   "metadata": {},
   "source": [
    "# Convolutional neural network"
   ]
  },
  {
   "cell_type": "markdown",
   "id": "77d588c1-d229-4e14-b537-421a0df293f7",
   "metadata": {},
   "source": [
    "Convolutional layers should improve the accuracy further but will even longer to run. You should try to understand what filters, pooling, and kernal size are. These are the hyperparameters you need to mess around with, as well as the number of convolutional layers. The filters will be used to look for certain features of the S2 waveforms so I think the kernal size should be decided based on the size of features you are trying to select. Here is a descriptive link: https://www.simplilearn.com/tutorials/deep-learning-tutorial/convolutional-neural-network#:~:text=A%20convolutional%20neural%20network%20is,classify%20objects%20in%20an%20image. This made my computer start to overheat, hence the desire to use a gpu, but maybe we are okay."
   ]
  },
  {
   "cell_type": "code",
   "execution_count": 21,
   "id": "da2d1b4a-208f-4ffc-af46-d62ea20c5632",
   "metadata": {},
   "outputs": [],
   "source": [
    "#convoNN = keras.Sequential([\n",
    "#    keras.layers.Conv2D(filters=28,kernel_size=(3,3),activation='relu', input_shape=(28,28,1)),\n",
    "#    keras.layers.MaxPooling2D((2, 2)),\n",
    "    \n",
    "#    keras.layers.Conv2D(filters=64,kernel_size=(3, 3),activation='relu'),\n",
    "#    keras.layers.MaxPooling2D((2, 2)),\n",
    "    \n",
    "#    keras.layers.Flatten(),\n",
    "#    keras.layers.Dense(64, activation='relu'),\n",
    "#    keras.layers.Dense(3, activation='softmax')\n",
    "#])\n",
    "\n",
    "\n",
    "#CNN with 7 layers\n",
    "#the first two Conv2D extract spatial features from the image- i.e. there will be 28 filters that will scan the image for patterns, each filter extracts different features from the image (e.g.textures, edges)\n",
    "#max Pooling layer performs down-sampling to resduce spatial dimensions\n",
    "#(2,2) specifies a pooling window which means the layer will take the max value from every 2*2 region\n",
    "#flatten layer converts information from 2D map to a 1D vector\n",
    "#64 layer is a dense layer with 64 neurons\n",
    "#10 layer is our 10 neuron layer that provides a class (digit 0-1)"
   ]
  },
  {
   "cell_type": "code",
   "execution_count": 22,
   "id": "9b6730c0",
   "metadata": {},
   "outputs": [],
   "source": [
    "from tensorflow import keras\n",
    "\n",
    "# Adjusted model to work with 1D input data\n",
    "convoNN = keras.Sequential([\n",
    "    # First 1D convolution layer\n",
    "    keras.layers.Conv1D(filters=28, kernel_size=3, activation='relu', input_shape=(3656, 1)),\n",
    "    keras.layers.MaxPooling1D(pool_size=2),\n",
    "    \n",
    "    # Second 1D convolution layer\n",
    "    keras.layers.Conv1D(filters=64, kernel_size=3, activation='relu'),\n",
    "    keras.layers.MaxPooling1D(pool_size=2),\n",
    "    \n",
    "    # Flatten layer to connect to dense layers\n",
    "    keras.layers.Flatten(),\n",
    "    keras.layers.Dense(64, activation='relu'),\n",
    "    keras.layers.Dense(3, activation='softmax')  # Adjust output size for the number of classes\n",
    "])\n",
    "\n",
    "# Compile the model\n",
    "convoNN.compile(optimizer='adam', loss='sparse_categorical_crossentropy', metrics=['accuracy'])\n"
   ]
  },
  {
   "cell_type": "code",
   "execution_count": 23,
   "id": "f1bf8540-3f15-48d9-a649-be7804e567c5",
   "metadata": {},
   "outputs": [],
   "source": [
    "convoNN.compile(optimizer='adam',\n",
    "                 loss='sparse_categorical_crossentropy',\n",
    "                 metrics=['accuracy'])"
   ]
  },
  {
   "cell_type": "code",
   "execution_count": 24,
   "id": "040b4dad-805d-4b93-b8f7-1097050fbd05",
   "metadata": {
    "scrolled": true
   },
   "outputs": [
    {
     "name": "stdout",
     "output_type": "stream",
     "text": [
      "Epoch 1/5\n",
      "183/183 [==============================] - 18s 92ms/step - loss: 0.3546 - accuracy: 0.8424\n",
      "Epoch 2/5\n",
      "183/183 [==============================] - 18s 98ms/step - loss: 0.3086 - accuracy: 0.8660\n",
      "Epoch 3/5\n",
      "183/183 [==============================] - 18s 98ms/step - loss: 0.2799 - accuracy: 0.8799\n",
      "Epoch 4/5\n",
      "183/183 [==============================] - 23s 124ms/step - loss: 0.2631 - accuracy: 0.8862\n",
      "Epoch 5/5\n",
      "183/183 [==============================] - 22s 121ms/step - loss: 0.2379 - accuracy: 0.8982\n"
     ]
    },
    {
     "data": {
      "text/plain": [
       "<keras.src.callbacks.History at 0x1dc4798bdf0>"
      ]
     },
     "execution_count": 24,
     "metadata": {},
     "output_type": "execute_result"
    }
   ],
   "source": [
    "convoNN.fit(X_train, y_train, epochs=5)"
   ]
  },
  {
   "cell_type": "code",
   "execution_count": 25,
   "id": "21d1e127",
   "metadata": {},
   "outputs": [
    {
     "name": "stdout",
     "output_type": "stream",
     "text": [
      "61/61 [==============================] - 2s 24ms/step - loss: 0.2960 - accuracy: 0.8834\n"
     ]
    },
    {
     "data": {
      "text/plain": [
       "[0.29600489139556885, 0.8833504915237427]"
      ]
     },
     "execution_count": 25,
     "metadata": {},
     "output_type": "execute_result"
    }
   ],
   "source": [
    "# Reshape to add a channel dimension for the 1D CNN\n",
    "X_test_reshaped = X_test.reshape(-1, 3656, 1)\n",
    "\n",
    "# Evaluate the model\n",
    "convoNN.evaluate(X_test_reshaped, y_test)\n"
   ]
  },
  {
   "cell_type": "code",
   "execution_count": 26,
   "id": "ec8a8eb5-69c9-4d4f-8546-e9f849a64fba",
   "metadata": {},
   "outputs": [],
   "source": [
    "#convoNN.evaluate(X_test_flattened,y_test)"
   ]
  },
  {
   "cell_type": "code",
   "execution_count": null,
   "id": "222d1821",
   "metadata": {},
   "outputs": [],
   "source": []
  },
  {
   "cell_type": "code",
   "execution_count": null,
   "id": "b6ad7739",
   "metadata": {},
   "outputs": [],
   "source": []
  }
 ],
 "metadata": {
  "kernelspec": {
   "display_name": "Python 3",
   "language": "python",
   "name": "python3"
  },
  "language_info": {
   "codemirror_mode": {
    "name": "ipython",
    "version": 3
   },
   "file_extension": ".py",
   "mimetype": "text/x-python",
   "name": "python",
   "nbconvert_exporter": "python",
   "pygments_lexer": "ipython3",
   "version": "3.8.8"
  }
 },
 "nbformat": 4,
 "nbformat_minor": 5
}
